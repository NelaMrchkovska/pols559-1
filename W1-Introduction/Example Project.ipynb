{
 "cells": [
  {
   "cell_type": "markdown",
   "metadata": {},
   "source": [
    "# Background"
   ]
  },
  {
   "cell_type": "markdown",
   "metadata": {},
   "source": [
    "In this project, we will be exploring how Trump tweets. What topics does he often tweet about? What types of tweets from Trump tended to lead to high engagement? What about his language style?"
   ]
  },
  {
   "cell_type": "markdown",
   "metadata": {},
   "source": [
    "## How to retrieve the twitter data?"
   ]
  },
  {
   "cell_type": "code",
   "execution_count": 21,
   "metadata": {},
   "outputs": [],
   "source": [
    "import requests\n",
    "import json\n",
    "import pandas as pd"
   ]
  },
  {
   "cell_type": "code",
   "execution_count": 18,
   "metadata": {},
   "outputs": [],
   "source": [
    "# we will use trumptwitterarchive.com which contains all his tweets since 2009\n",
    "def get_tweets(year):\n",
    "    url = ('http://www.trumptwitterarchive.com/data/realdonaldtrump/%s.json' %year)\n",
    "    r = requests.get(url)\n",
    "    print(str(year) + ' ' + 'done.')\n",
    "    return r.json()"
   ]
  },
  {
   "cell_type": "code",
   "execution_count": 19,
   "metadata": {},
   "outputs": [],
   "source": [
    "def save_tweets(years=range(2009,2020)):\n",
    "    tweets = []\n",
    "    \n",
    "    for year in years:\n",
    "        data = get_tweets(year)\n",
    "        data_length = len(data)\n",
    "            \n",
    "        i = 0\n",
    "        while i < data_length:\n",
    "            tweets.append(data[i])\n",
    "            i = i + 1 \n",
    "                \n",
    "    return tweets"
   ]
  },
  {
   "cell_type": "code",
   "execution_count": 20,
   "metadata": {},
   "outputs": [
    {
     "name": "stdout",
     "output_type": "stream",
     "text": [
      "2009 done.\n",
      "2010 done.\n",
      "2011 done.\n",
      "2012 done.\n",
      "2013 done.\n",
      "2014 done.\n",
      "2015 done.\n",
      "2016 done.\n",
      "2017 done.\n",
      "2018 done.\n",
      "2019 done.\n",
      "ok\n"
     ]
    }
   ],
   "source": [
    "with open(\"trump_tweets.json\", \"w\") as outfile:\n",
    "    json.dump(save_tweets(), outfile)\n",
    "    print('ok')"
   ]
  },
  {
   "cell_type": "code",
   "execution_count": 24,
   "metadata": {},
   "outputs": [
    {
     "name": "stdout",
     "output_type": "stream",
     "text": [
      "                   source               id_str  \\\n",
      "0      Twitter Web Client           6971079756   \n",
      "1      Twitter Web Client           6312794445   \n",
      "2      Twitter Web Client           6090839867   \n",
      "3      Twitter Web Client           5775731054   \n",
      "4      Twitter Web Client           5364614040   \n",
      "...                   ...                  ...   \n",
      "44120  Twitter for iPhone  1080084113762197504   \n",
      "44121  Twitter for iPhone  1079920504268562432   \n",
      "44122  Twitter for iPhone  1079906462753869824   \n",
      "44123  Twitter for iPhone  1079902957938925568   \n",
      "44124  Twitter for iPhone  1079900120047603712   \n",
      "\n",
      "                                                    text  \\\n",
      "0      From Donald Trump: Wishing everyone a wonderfu...   \n",
      "1      Trump International Tower in Chicago ranked 6t...   \n",
      "2      Wishing you and yours a very Happy and Bountif...   \n",
      "3      Donald Trump Partners with TV1 on New Reality ...   \n",
      "4      --Work has begun, ahead of schedule, to build ...   \n",
      "...                                                  ...   \n",
      "44120  Dr. Sebastian Gorka, a very good and talented ...   \n",
      "44121  RT @WhiteHouse: 2018 has been a year of histor...   \n",
      "44122  ...Remember this. Throughout the ages some thi...   \n",
      "44123  The Democrats will probably submit a Bill, bei...   \n",
      "44124  MEXICO IS PAYING FOR THE WALL through the many...   \n",
      "\n",
      "                     created_at  retweet_count  in_reply_to_user_id_str  \\\n",
      "0     2009-12-23 17:38:18+00:00             28                      NaN   \n",
      "1     2009-12-03 19:39:09+00:00             33                      NaN   \n",
      "2     2009-11-26 19:55:38+00:00             13                      NaN   \n",
      "3     2009-11-16 21:06:10+00:00              5                      NaN   \n",
      "4     2009-11-02 14:57:56+00:00              7                      NaN   \n",
      "...                         ...            ...                      ...   \n",
      "44120 2019-01-01 12:51:34+00:00          14059                      NaN   \n",
      "44121 2019-01-01 02:01:26+00:00          25861                      NaN   \n",
      "44122 2019-01-01 01:05:39+00:00          28529                      NaN   \n",
      "44123 2019-01-01 00:51:43+00:00          22897                      NaN   \n",
      "44124 2019-01-01 00:40:26+00:00          23882                      NaN   \n",
      "\n",
      "       favorite_count  is_retweet  \n",
      "0                  12       False  \n",
      "1                   6       False  \n",
      "2                  11       False  \n",
      "3                   3       False  \n",
      "4                   6       False  \n",
      "...               ...         ...  \n",
      "44120           76622       False  \n",
      "44121               0       False  \n",
      "44122          135209       False  \n",
      "44123           99239       False  \n",
      "44124          104440       False  \n",
      "\n",
      "[44125 rows x 8 columns]\n"
     ]
    }
   ],
   "source": [
    "# take a look at the data frame\n",
    "df = pd.read_json(\"trump_tweets.json\")\n",
    "df.shape \n",
    "print(df)"
   ]
  },
  {
   "cell_type": "markdown",
   "metadata": {},
   "source": [
    "## How to clean the data? "
   ]
  },
  {
   "cell_type": "code",
   "execution_count": 31,
   "metadata": {},
   "outputs": [
    {
     "name": "stdout",
     "output_type": "stream",
     "text": [
      "1024703\n",
      "['from', 'donald', 'trump', ':', 'wishing', 'everyone', 'a', 'wonderful', 'holiday', '&', 'a', 'happy', ',', 'healthy', ',', 'prosperous', 'new', 'year', '.', 'let']\n"
     ]
    }
   ],
   "source": [
    "from nltk.tokenize import TweetTokenizer\n",
    "tk = TweetTokenizer()\n",
    "\n",
    "def tokenize_tweets(data):\n",
    "    text = ''\n",
    "    for token in df['text']:\n",
    "        text = text + token\n",
    "    tokens = [i.lower() for i in tk.tokenize(text)]\n",
    "    return tokens\n",
    "\n",
    "tokens = tokenize_tweets(df)\n",
    "print(len(tokens))"
   ]
  },
  {
   "cell_type": "code",
   "execution_count": 33,
   "metadata": {},
   "outputs": [],
   "source": [
    "# remove stop words, special characters and links \n",
    "from nltk.corpus import stopwords\n",
    "import string\n",
    "punctiuation = list(string.punctuation)\n",
    "stop = stopwords.words('english') + punctiuation"
   ]
  },
  {
   "cell_type": "code",
   "execution_count": 34,
   "metadata": {},
   "outputs": [
    {
     "name": "stdout",
     "output_type": "stream",
     "text": [
      "412770\n"
     ]
    }
   ],
   "source": [
    "def complete_tokens(tokens):\n",
    "    tokens_complete = [t for t in tokens \n",
    "                       if (len(t) >= 3) \n",
    "                       and (not t.startswith(('#', '@'))) # pass hashtag and username\n",
    "                       and (not t.startswith('http')) # pass links \n",
    "                       and (t not in stop) # pass stop words\n",
    "                       and (t[0].isalpha())] # make sure all characters are alphabets\n",
    "    \n",
    "    return tokens_complete\n",
    "\n",
    "tokens_clean = complete_tokens(tokens)\n",
    "print(len(tokens_clean))"
   ]
  },
  {
   "cell_type": "markdown",
   "metadata": {},
   "source": [
    "## What topics does he often tweet about?"
   ]
  },
  {
   "cell_type": "code",
   "execution_count": 37,
   "metadata": {},
   "outputs": [
    {
     "name": "stdout",
     "output_type": "stream",
     "text": [
      "[('#trump2016', 869), ('#makeamericagreatagain', 519), ('#maga', 267), ('#celebapprentice', 221), ('#celebrityapprentice', 149), ('#trump', 117), ('#americafirst', 102), ('#draintheswamp', 78), ('#trumpforpresident', 76), ('#votetrump', 73)]\n"
     ]
    }
   ],
   "source": [
    "from nltk import FreqDist\n",
    "hashtags = [t for t in tokens if (t.startswith('#') and len(t) != 1)]\n",
    "hashtags_freq = FreqDist(hashtags).most_common(10)\n",
    "print(hashtags_freq)\n",
    "# it looks like the topics are mostly about promoting his campaign"
   ]
  },
  {
   "cell_type": "markdown",
   "metadata": {},
   "source": [
    "## What types of tweets from Trump tended to lead to high engagement? "
   ]
  },
  {
   "cell_type": "code",
   "execution_count": 66,
   "metadata": {},
   "outputs": [
    {
     "name": "stdout",
     "output_type": "stream",
     "text": [
      "The most-liked tweet from Trump is: \n",
      "A$AP Rocky released from prison and on his way home to the United States from Sweden. It was a Rocky Week, get home ASAP A$AP!\n",
      "The number of likes is 879647\n",
      "The most-retweeted tweet from Trump is: \n",
      "#FraudNewsCNN #FNN https://t.co/WYUnHjjUjg\n",
      "The number of retweets is 369530\n"
     ]
    }
   ],
   "source": [
    "# extract the most-liked and most-retweeted tweet\n",
    "import numpy as np\n",
    "like_max = np.max(df['favorite_count'])\n",
    "retweet_max  = np.max(df['retweet_count'])\n",
    "\n",
    "like = df[df.favorite_count == like_max].index[0]\n",
    "print(\"The most-liked tweet from Trump is: \" + \"\\n\" + df['text'][like] + \"\\n\" + \"The number of likes is \" + str(like_max))\n",
    "\n",
    "retweet = df[df.retweet_count == retweet_max].index[0]\n",
    "print(\"The most-retweeted tweet from Trump is: \" + \"\\n\" + df['text'][retweet] + \"\\n\" + \"The number of retweets is \" + str(retweet_max))"
   ]
  },
  {
   "cell_type": "markdown",
   "metadata": {},
   "source": [
    "## Let's visualize the output"
   ]
  },
  {
   "cell_type": "code",
   "execution_count": 71,
   "metadata": {},
   "outputs": [],
   "source": [
    "# create time series for data:\n",
    "time_like = pd.Series(data=df['favorite_count'].values, index=df['created_at'])\n",
    "time_retweet = pd.Series(data=df['retweet_count'].values, index=df['created_at'])"
   ]
  },
  {
   "cell_type": "code",
   "execution_count": 86,
   "metadata": {},
   "outputs": [
    {
     "data": {
      "text/plain": [
       "Text(0.5, 0, 'Time of Creation')"
      ]
     },
     "execution_count": 86,
     "metadata": {},
     "output_type": "execute_result"
    },
    {
     "data": {
      "image/png": "[encoded data removed]",
      "text/plain": [
       "<Figure size 1152x288 with 1 Axes>"
      ]
     },
     "metadata": {
      "needs_background": "light"
     },
     "output_type": "display_data"
    }
   ],
   "source": [
    "# Likes vs retweets visualization:\n",
    "time_like.plot(figsize=(16,4), label=\"Number of Likes\", legend=True, x = \"cre\") \n",
    "time_retweet.plot(figsize=(16,4), label=\"Number of Retweets\", legend=True, x = \"cre\").set_xlabel(\"Time of Creation\")"
   ]
  }
 ],
 "metadata": {
  "kernelspec": {
   "display_name": "Python 3",
   "language": "python",
   "name": "python3"
  },
  "language_info": {
   "codemirror_mode": {
    "name": "ipython",
    "version": 3
   },
   "file_extension": ".py",
   "mimetype": "text/x-python",
   "name": "python",
   "nbconvert_exporter": "python",
   "pygments_lexer": "ipython3",
   "version": "3.7.4"
  }
 },
 "nbformat": 4,
 "nbformat_minor": 2
}
